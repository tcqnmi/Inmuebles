{
 "cells": [
  {
   "cell_type": "markdown",
   "metadata": {},
   "source": [
    "Obtener el fichero usando la librería requests"
   ]
  },
  {
   "cell_type": "code",
   "execution_count": 22,
   "metadata": {},
   "outputs": [],
   "source": [
    "import requests\n",
    "import bz2\n",
    "\n",
    "url_inmuebles = 'https://gist.github.com/victorMaestro1994/3dfb3628c19c10ef117e6a5328b02637/raw/ec628696a6e2351e7ba7b3c1cd3023f0984eb53d/data.csv.bz2'\n",
    "url_precios = 'https://gist.github.com/victorMaestro1994/3dfb3628c19c10ef117e6a5328b02637/raw/ec628696a6e2351e7ba7b3c1cd3023f0984eb53d/prices.csv.bz2'\n",
    "\n",
    "#Obtención de la url\n",
    "\n",
    "response = requests.get(url_inmuebles)\n",
    "\n",
    "# Descomprimimos el contenido de la respuesta\n",
    "\n",
    "descomprimido = bz2.decompress(response.content)\n",
    "\n",
    "# Guardamos el contenido descomprimido en un archivo CSV\n",
    "\n",
    "with open('inmuebles.csv', 'wb') as f:\n",
    "    f.write(descomprimido)\n",
    "\n",
    "#Repetimos el mismo proceso con la url de precios\n",
    "\n",
    "response = requests.get(url_precios)\n",
    "descomprimido=bz2.decompress(response.content)\n",
    "with open('prices.csv', 'wb') as f:\n",
    "    f.write(descomprimido)\n"
   ]
  },
  {
   "cell_type": "markdown",
   "metadata": {},
   "source": [
    "Usando línea de comandos importar los datos de dichos ficheros en una base de datos que resida en un fichero SQLite."
   ]
  },
  {
   "cell_type": "code",
   "execution_count": 31,
   "metadata": {},
   "outputs": [
    {
     "ename": "SyntaxError",
     "evalue": "unterminated string literal (detected at line 6) (549958168.py, line 6)",
     "output_type": "error",
     "traceback": [
      "\u001b[1;36m  Cell \u001b[1;32mIn[31], line 6\u001b[1;36m\u001b[0m\n\u001b[1;33m    query = \" SELECT customer_id, zip_code, COUNT(*) as num_inmueblesFROM inmuebles\u001b[0m\n\u001b[1;37m            ^\u001b[0m\n\u001b[1;31mSyntaxError\u001b[0m\u001b[1;31m:\u001b[0m unterminated string literal (detected at line 6)\n"
     ]
    }
   ],
   "source": [
    "import sqlite3\n",
    "\n",
    "con_idealista = sqlite3.connect('idealista.db')\n",
    "cur_idealista = con_idealista.cursor()\n",
    "\n",
    "query = \"\"\" \n",
    "SELECT customer_id, zip_code, COUNT(*) as num_inmuebles\n",
    "FROM inmuebles\n",
    "WHERE is_professional = 1\n",
    "GROUP BY customer_id, zip_code;\n",
    "\"\"\"\n",
    "\n",
    "cur_idealista.execute(query)\n",
    "resultados = cur_idealista.fetchall()\n",
    "\n",
    "for resultado in resultados:\n",
    "    print(f\"Cliente {resultado[0]} en el código postal {resultado[1]} tiene {resultado[2]} inmuebles en alquiler.\")\n",
    "\n"
   ]
  },
  {
   "cell_type": "code",
   "execution_count": null,
   "metadata": {},
   "outputs": [],
   "source": []
  }
 ],
 "metadata": {
  "kernelspec": {
   "display_name": "Python 3",
   "language": "python",
   "name": "python3"
  },
  "language_info": {
   "codemirror_mode": {
    "name": "ipython",
    "version": 3
   },
   "file_extension": ".py",
   "mimetype": "text/x-python",
   "name": "python",
   "nbconvert_exporter": "python",
   "pygments_lexer": "ipython3",
   "version": "3.10.11"
  }
 },
 "nbformat": 4,
 "nbformat_minor": 2
}
